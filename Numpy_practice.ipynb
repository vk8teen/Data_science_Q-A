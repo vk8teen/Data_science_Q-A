{
  "nbformat": 4,
  "nbformat_minor": 0,
  "metadata": {
    "colab": {
      "provenance": [],
      "authorship_tag": "ABX9TyO7QaZOGAVlJ36xDYWdpLH4",
      "include_colab_link": true
    },
    "kernelspec": {
      "name": "python3",
      "display_name": "Python 3"
    },
    "language_info": {
      "name": "python"
    }
  },
  "cells": [
    {
      "cell_type": "markdown",
      "metadata": {
        "id": "view-in-github",
        "colab_type": "text"
      },
      "source": [
        "<a href=\"https://colab.research.google.com/github/vk8teen/data_science_Q-A/blob/main/Numpy_practice.ipynb\" target=\"_parent\"><img src=\"https://colab.research.google.com/assets/colab-badge.svg\" alt=\"Open In Colab\"/></a>"
      ]
    },
    {
      "cell_type": "code",
      "execution_count": null,
      "metadata": {
        "colab": {
          "base_uri": "https://localhost:8080/"
        },
        "id": "nR1lqjvShxvR",
        "outputId": "fc10c6e4-3963-4804-ae6b-cf99682f6331"
      },
      "outputs": [
        {
          "output_type": "execute_result",
          "data": {
            "text/plain": [
              "3"
            ]
          },
          "metadata": {},
          "execution_count": 17
        }
      ],
      "source": [
        "import numpy as np\n",
        "A = np.arange(2,14).reshape(3,-1)\n",
        "B = np.arange(5,21).reshape(4,-1)\n",
        "(rows, columns) = np.shape(A)\n",
        "rows"
      ]
    },
    {
      "cell_type": "markdown",
      "source": [
        "Given two 2D arrays, row and column ranges,\n",
        "\n",
        "Perform the following operations:\n",
        "\n",
        "Find the matrix multiplication of the given two matrices and\n",
        "Extract the elements from the output of above step using the given ranges\n",
        "If matrix multiplication is not possible, return -1\n",
        "Note: The end points (upper range) of both rows and columns are excluded."
      ],
      "metadata": {
        "id": "s680nzw-h25j"
      }
    },
    {
      "cell_type": "code",
      "source": [
        "import numpy as np\n",
        "def matrixmul(mat1, mat2, r1, r2, c1, c2):\n",
        "\n",
        "  #unpacking number of rows and number of columns of each patrics\n",
        "  r_m1, c_m1 = np.shape(mat1)\n",
        "  r_m2, c_m2 = np.shape(mat2)\n",
        "\n",
        "  #checking whether no. of column of first matrix is equal to number of rows of second martrix for possibility of matrix multiplication.\n",
        "  # if it is not equal then return -1.\n",
        "  if c_m1 != r_m2:\n",
        "    result = -1\n",
        "  else:\n",
        "    mat3 = np.dot(mat1,mat2)\n",
        "\n",
        "    # extracting specific rows and columns from the resultant matrix of matrix multiplication.\n",
        "\n",
        "    result = (mat3[r1:r2, c1:c2])\n",
        "  return result\n",
        "\n",
        "\n",
        "A = np.array([[1,2],[2,3],[3,4]])\n",
        "B = np.array([[1,2],[3,4],[10, 20]])\n",
        "\n",
        "matrixmul(A,B, 1, 3, 1, 3)"
      ],
      "metadata": {
        "colab": {
          "base_uri": "https://localhost:8080/"
        },
        "id": "TZmAfOJoiBFM",
        "outputId": "61da805f-5cba-418a-e188-62274094e6d0"
      },
      "execution_count": null,
      "outputs": [
        {
          "output_type": "execute_result",
          "data": {
            "text/plain": [
              "-1"
            ]
          },
          "metadata": {},
          "execution_count": 11
        }
      ]
    },
    {
      "cell_type": "markdown",
      "source": [
        "Given a list of birds and their corresponding age, return the name of birds sorted according to age (ascending).\n",
        "\n",
        "Input Format:\n",
        "\n",
        "Two 1D array list i.e. bird array and age array"
      ],
      "metadata": {
        "id": "gE_kKsraofB7"
      }
    },
    {
      "cell_type": "code",
      "source": [
        "birds = np.array(['spoonbills',  'plovers',  'plovers',  'plovers',  'plovers',  'Cranes',  'plovers',  'plovers',  'Cranes',  'spoonbills'])\n",
        "age = np.array([5.5, 6.0, 3.5, 1.5, 3.0, 4.0, 3.5, 2.0, 5.5, 6.0])\n",
        "\n",
        "import numpy as np\n",
        "def bird_sort(bird, age):\n",
        "\n",
        "  # Getting the sorted index of age.\n",
        "  sorted_age_index = np.argsort(age)\n",
        "\n",
        "  # Use the index from previous step to get sorted birds\n",
        "\n",
        "  sorted_birds = birds[sorted_age_index]\n",
        "\n",
        "  return sorted_birds\n",
        "\n",
        "bird_sort(birds, age)"
      ],
      "metadata": {
        "colab": {
          "base_uri": "https://localhost:8080/"
        },
        "id": "--89gYWklBiQ",
        "outputId": "7ca4a747-c495-4398-91bf-a6366b9a8c98"
      },
      "execution_count": null,
      "outputs": [
        {
          "output_type": "execute_result",
          "data": {
            "text/plain": [
              "array(['plovers', 'plovers', 'plovers', 'plovers', 'plovers', 'Cranes',\n",
              "       'spoonbills', 'Cranes', 'plovers', 'spoonbills'], dtype='<U10')"
            ]
          },
          "metadata": {},
          "execution_count": 9
        }
      ]
    },
    {
      "cell_type": "markdown",
      "source": [
        "Given a list of birds and their corresponding age, calculate the mean age of the Crane bird (rounded off to 2 decimal points)"
      ],
      "metadata": {
        "id": "jIZH5OfD2RBN"
      }
    },
    {
      "cell_type": "code",
      "source": [
        "import numpy as np\n",
        "\n",
        "def calculate_mean_age(birds, age):\n",
        "\n",
        "    mean_age = None\n",
        "\n",
        "    ## STEP1. Create mask to get Crane birds from birds array\n",
        "    mask = birds == \"Cranes\"\n",
        "\n",
        "    ## STEP2. Get the age of crane birds\n",
        "\n",
        "    crane_ages = age[mask]\n",
        "\n",
        "    ## STEP 3. Calculate mean age of crane birds and rounf of to 2 decimal point\n",
        "\n",
        "    mean_age = np.round(np.mean(crane_ages),2)\n",
        "\n",
        "    return mean_age\n",
        "\n",
        "birds = np.array(['spoonbills',  'plovers',  'plovers',  'plovers',  'plovers',  'Cranes',  'plovers',  'plovers',  'Cranes',  'spoonbills'])\n",
        "age = np.array([5.5, 6.0, 3.5, 1.5, 3.0, 4.0, 3.5, 2.0, 5.5, 6.0])\n",
        "\n",
        "\n",
        "calculate_mean_age(birds, age)"
      ],
      "metadata": {
        "colab": {
          "base_uri": "https://localhost:8080/"
        },
        "id": "ui8MkdASlk32",
        "outputId": "87cb50e8-a2da-45a6-939a-92e6acb159bc"
      },
      "execution_count": null,
      "outputs": [
        {
          "output_type": "execute_result",
          "data": {
            "text/plain": [
              "4.75"
            ]
          },
          "metadata": {},
          "execution_count": 33
        }
      ]
    },
    {
      "cell_type": "markdown",
      "source": [
        "Given a array of bird names and another array with corresponding ages of the birds, find the name of the oldest bird in the list."
      ],
      "metadata": {
        "id": "RY-6xEyxz1wh"
      }
    },
    {
      "cell_type": "code",
      "source": [
        "import numpy as np\n",
        "def oldest_bird(birds, age):\n",
        "\n",
        "    ## STEP 1: Get the index of maximum age element\n",
        "\n",
        "    max_age_index = np.where(age == max(age))\n",
        "    print(max_age_index)\n",
        "\n",
        "    ## STEP 2: Get the bird with maxium age using the above index\n",
        "\n",
        "    old_bird = birds[max_age_index]\n",
        "    return old_bird\n",
        "\n",
        "birds1 = np.array(['sparrow', 'peacock', 'parrot', 'owl', 'peacock', 'macaw', 'macaw', 'parrot', 'macaw', 'peacock'])\n",
        "age1 = np.array([6, 1, 6, 5, 7, 6, 0, 9, 0, 7])\n",
        "oldest_bird(birds1,age1)\n",
        "\n"
      ],
      "metadata": {
        "colab": {
          "base_uri": "https://localhost:8080/"
        },
        "id": "4tw5s5SNs9qh",
        "outputId": "9b5deba7-4ded-4a44-f7cf-1273f03c4215"
      },
      "execution_count": null,
      "outputs": [
        {
          "output_type": "stream",
          "name": "stdout",
          "text": [
            "(array([7]),)\n"
          ]
        },
        {
          "output_type": "execute_result",
          "data": {
            "text/plain": [
              "array(['parrot'], dtype='<U7')"
            ]
          },
          "metadata": {},
          "execution_count": 42
        }
      ]
    },
    {
      "cell_type": "markdown",
      "source": [
        "Given a NumPy array of shape (n,m). Add padding of a layer of 0’s on all 4 boundaries of the matrix."
      ],
      "metadata": {
        "id": "Qi9fptkH1Nii"
      }
    },
    {
      "cell_type": "code",
      "source": [
        "import numpy as np\n",
        "def add_padding(mat):\n",
        "    '''mat-> NumPy array\n",
        "       output-> NumPy array is expected to be returned'''\n",
        "\n",
        "    mat1 = np.vstack(([0]*mat.shape[1],mat,[0]*mat.shape[1]))\n",
        "    B = np.array([0]*mat1.shape[0]).reshape(-1,1)\n",
        "    mat2 = np.hstack((np.array([0]*mat1.shape[0]).reshape(-1,1),mat1,np.array([0]*mat1.shape[0]).reshape(-1,1)))\n",
        "    print(mat2)\n",
        "\n",
        "    res = mat2\n",
        "\n",
        "    return res"
      ],
      "metadata": {
        "id": "yBTSUKs_y7C8"
      },
      "execution_count": null,
      "outputs": []
    },
    {
      "cell_type": "code",
      "source": [
        "A = np.arange(12).reshape(3,-4)\n",
        "add_padding(A)"
      ],
      "metadata": {
        "colab": {
          "base_uri": "https://localhost:8080/"
        },
        "id": "lCWLywZo5KLA",
        "outputId": "1c682b20-a387-44c9-c110-50e1aca3962a"
      },
      "execution_count": null,
      "outputs": [
        {
          "output_type": "stream",
          "name": "stdout",
          "text": [
            "[[ 0  0  0  0  0  0]\n",
            " [ 0  0  1  2  3  0]\n",
            " [ 0  4  5  6  7  0]\n",
            " [ 0  8  9 10 11  0]\n",
            " [ 0  0  0  0  0  0]]\n"
          ]
        },
        {
          "output_type": "execute_result",
          "data": {
            "text/plain": [
              "array([[ 0,  0,  0,  0,  0,  0],\n",
              "       [ 0,  0,  1,  2,  3,  0],\n",
              "       [ 0,  4,  5,  6,  7,  0],\n",
              "       [ 0,  8,  9, 10, 11,  0],\n",
              "       [ 0,  0,  0,  0,  0,  0]])"
            ]
          },
          "metadata": {},
          "execution_count": 78
        }
      ]
    },
    {
      "cell_type": "markdown",
      "source": [
        "Given an MxN 2D array (M >= 4),\n",
        "\n",
        "Split the array column wise such that,\n",
        "\n",
        "1st sub array contains the first 2 columns\n",
        "2nd sub array contains the 3rd column\n",
        "3rd sub array contains the rest of the columns"
      ],
      "metadata": {
        "id": "jolkM6GQAd-S"
      }
    },
    {
      "cell_type": "code",
      "source": [
        "import numpy as np\n",
        "\n",
        "def split(arr):\n",
        "\n",
        "    subarrays = np.split(arr,[2,3], axis = 1)\n",
        "    print(arr)\n",
        "    return subarrays\n",
        "\n",
        "A = np.arange(21).reshape(3,-1)\n",
        "split(A)"
      ],
      "metadata": {
        "colab": {
          "base_uri": "https://localhost:8080/"
        },
        "id": "t0pxhOgW5Na_",
        "outputId": "466425d3-c800-49cb-f180-a5368584c5cf"
      },
      "execution_count": null,
      "outputs": [
        {
          "output_type": "stream",
          "name": "stdout",
          "text": [
            "[[ 0  1  2  3  4  5  6]\n",
            " [ 7  8  9 10 11 12 13]\n",
            " [14 15 16 17 18 19 20]]\n"
          ]
        },
        {
          "output_type": "execute_result",
          "data": {
            "text/plain": [
              "[array([[ 0,  1],\n",
              "        [ 7,  8],\n",
              "        [14, 15]]),\n",
              " array([[ 2],\n",
              "        [ 9],\n",
              "        [16]]),\n",
              " array([[ 3,  4,  5,  6],\n",
              "        [10, 11, 12, 13],\n",
              "        [17, 18, 19, 20]])]"
            ]
          },
          "metadata": {},
          "execution_count": 88
        }
      ]
    },
    {
      "cell_type": "markdown",
      "source": [
        "Given an 1D array and an integer k that specifies the number of equal parts to split the array into,\n",
        "\n",
        "Perform the following operations:\n",
        "\n",
        "Split the array into k number of equal parts.\n",
        "Return the list of split arrays."
      ],
      "metadata": {
        "id": "Mpo_kLClC9Nt"
      }
    },
    {
      "cell_type": "code",
      "source": [
        "import numpy as np\n",
        "\n",
        "def split(arr,k):\n",
        "\n",
        "    subarrays = np.split(arr,3)\n",
        "    print(arr)\n",
        "    return subarrays\n",
        "\n",
        "A = np.arange(21)\n",
        "split(A, 3)"
      ],
      "metadata": {
        "colab": {
          "base_uri": "https://localhost:8080/"
        },
        "id": "REvhWxcc8C0y",
        "outputId": "a4ff00bc-2284-4781-810b-17eb80789eab"
      },
      "execution_count": null,
      "outputs": [
        {
          "output_type": "stream",
          "name": "stdout",
          "text": [
            "[ 0  1  2  3  4  5  6  7  8  9 10 11 12 13 14 15 16 17 18 19 20]\n"
          ]
        },
        {
          "output_type": "execute_result",
          "data": {
            "text/plain": [
              "[array([0, 1, 2, 3, 4, 5, 6]),\n",
              " array([ 7,  8,  9, 10, 11, 12, 13]),\n",
              " array([14, 15, 16, 17, 18, 19, 20])]"
            ]
          },
          "metadata": {},
          "execution_count": 95
        }
      ]
    },
    {
      "cell_type": "code",
      "source": [],
      "metadata": {
        "id": "efPObX4eDIf1"
      },
      "execution_count": null,
      "outputs": []
    },
    {
      "cell_type": "code",
      "source": [],
      "metadata": {
        "id": "CKh2HbeDEN_3"
      },
      "execution_count": null,
      "outputs": []
    },
    {
      "cell_type": "code",
      "source": [],
      "metadata": {
        "id": "a2D8ww4ZxD8_"
      },
      "execution_count": null,
      "outputs": []
    }
  ]
}