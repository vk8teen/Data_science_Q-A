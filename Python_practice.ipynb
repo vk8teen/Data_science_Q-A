{
  "nbformat": 4,
  "nbformat_minor": 0,
  "metadata": {
    "colab": {
      "provenance": [],
      "authorship_tag": "ABX9TyOLMojox8aGrILdySGVavT0",
      "include_colab_link": true
    },
    "kernelspec": {
      "name": "python3",
      "display_name": "Python 3"
    },
    "language_info": {
      "name": "python"
    }
  },
  "cells": [
    {
      "cell_type": "markdown",
      "metadata": {
        "id": "view-in-github",
        "colab_type": "text"
      },
      "source": [
        "<a href=\"https://colab.research.google.com/github/vk8teen/data_science_Q-A/blob/main/Python_practice.ipynb\" target=\"_parent\"><img src=\"https://colab.research.google.com/assets/colab-badge.svg\" alt=\"Open In Colab\"/></a>"
      ]
    },
    {
      "cell_type": "code",
      "execution_count": null,
      "metadata": {
        "id": "CXP2t6n5DbjV"
      },
      "outputs": [],
      "source": []
    },
    {
      "cell_type": "markdown",
      "source": [
        "Problem Description\n",
        "\n",
        "**Write a program that takes in a number N as input and does the following:**\n",
        "\n",
        "if N is a multiple of 3, print Fizz\n",
        "if N is a multiple of 5, print Buzz\n",
        "if N is a multiple of both 3 and 5, print FizzBuzz"
      ],
      "metadata": {
        "id": "hRYPbDmzELKW"
      }
    },
    {
      "cell_type": "code",
      "source": [
        "def main():\n",
        "    # Please take input and print output to standard input/output (stdin/stdout)\n",
        "    N = int(input())\n",
        "    if N%3 == 0 and N%5 == 0:\n",
        "        print(\"FizzBuzz\")\n",
        "    elif N%3 == 0:\n",
        "        print(\"Fizz\")\n",
        "    elif N%5 == 0:\n",
        "        print(\"Buzz\")\n",
        "\n",
        "    return 0\n",
        "\n",
        "if __name__ == '__main__':\n",
        "    main()"
      ],
      "metadata": {
        "id": "HSP4pqTSEUlN"
      },
      "execution_count": null,
      "outputs": []
    },
    {
      "cell_type": "markdown",
      "source": [
        "Problem Description.\n",
        "\n",
        "**Given an integer A representing an year, Return 1 if it is a leap year else return 0.**\n",
        "\n",
        "A year is leap year if the following conditions are satisfied:\n",
        "Year is multiple of 400.\n",
        "Else the year is multiple of 4 and not multiple of 100."
      ],
      "metadata": {
        "id": "_CK2O0OvFSDO"
      }
    },
    {
      "cell_type": "code",
      "source": [
        "def main():\n",
        "    # Taking input and print output to standard input/output (stdin/stdout)\n",
        "    A = int(input())\n",
        "    if A%400 == 0 or A%4 == 0 and A%100 != 0:\n",
        "        print(\"1\")\n",
        "    else:\n",
        "        print(\"0\")\n",
        "\n",
        "    return 0\n",
        "\n",
        "if __name__ == '__main__':\n",
        "    main()"
      ],
      "metadata": {
        "id": "gCIzOU8xFUJF"
      },
      "execution_count": null,
      "outputs": []
    },
    {
      "cell_type": "markdown",
      "source": [
        "Problem Description\n",
        "\n",
        "**You are given 3 integer angles(in degrees) A, B and C of a triangle. You have to tell whether the triangle is valid or not.**\n",
        "\n",
        "A triangle is valid if sum of its angles equals to 180.\n",
        "\n",
        "NOTE: You have to take the input of 3 sides of triangle from the user."
      ],
      "metadata": {
        "id": "YznJMJn1HRyg"
      }
    },
    {
      "cell_type": "code",
      "source": [
        "def main():\n",
        "    A = int(input())\n",
        "    B = int(input())\n",
        "    C = int(input())\n",
        "\n",
        "    if A+B+C == 180:\n",
        "        print(\"1\")\n",
        "    else:\n",
        "        print(\"0\")\n",
        "\n",
        "    return 0\n",
        "\n",
        "if __name__ == '__main__':\n",
        "    main()"
      ],
      "metadata": {
        "id": "tyMiBC1FHozs"
      },
      "execution_count": null,
      "outputs": []
    },
    {
      "cell_type": "markdown",
      "source": [
        "Problem Description.\n",
        "\n",
        "**Write a program to input from user an integer(n) representing the rating of a person on a platform.**\n",
        "\n",
        "You have to print the category of that person.\n",
        "\n",
        "If the rating is greater than or equal to 2100 then that person is \"grand master\".\n",
        "If the rating is greater than or equal to 1900 then that person is \"candidate master\".\n",
        "If the rating is greater than or equal to 1600 then that person is \"expert\".\n",
        "If the rating is greater than or equal to 1400 then that person is \"pupil\".\n",
        "If the rating is smaller than 1400 then that person is \"newbie\".\n",
        "NOTE: Print all the chars of the category of the person in lowercase if rating is odd otherwise print in UPPERCASE"
      ],
      "metadata": {
        "id": "Qnv3e9CSIxaA"
      }
    },
    {
      "cell_type": "code",
      "source": [
        "def main():\n",
        "    n = int(input())\n",
        "\n",
        "    if n >= 2100:\n",
        "        if n%2 == 0:\n",
        "            print((\"grand master\").upper())\n",
        "        else:\n",
        "            print(\"grand master\")\n",
        "    elif n >= 1900:\n",
        "        if n%2 == 0:\n",
        "            print((\"candidate master\").upper())\n",
        "        else:\n",
        "            print(\"candidate master\")\n",
        "    elif n >= 1600:\n",
        "        if n%2 == 0:\n",
        "            print((\"expert\").upper())\n",
        "        else:\n",
        "            print(\"expert\")\n",
        "    elif n >= 1400:\n",
        "        if n%2 == 0:\n",
        "            print((\"pupil\").upper())\n",
        "        else:\n",
        "            print(\"pupil\")\n",
        "    else:\n",
        "        if n%2 == 0:\n",
        "            print((\"newbie\").upper())\n",
        "        else:\n",
        "            print (\"newbie\")\n",
        "\n",
        "    return 0\n",
        "\n",
        "if __name__ == '__main__':\n",
        "    main()"
      ],
      "metadata": {
        "id": "rS8zTHSpIztv"
      },
      "execution_count": null,
      "outputs": []
    },
    {
      "cell_type": "markdown",
      "source": [
        "Problem Description.\n",
        "\n",
        "**Given an integer input N, print all multiples of 4 less than or equal to N.**"
      ],
      "metadata": {
        "id": "4GiGeGXDJKSg"
      }
    },
    {
      "cell_type": "code",
      "source": [
        "def main():\n",
        "    N = int(input())\n",
        "    A = 1\n",
        "    while 4*A <= N:\n",
        "        print(4*A, end = \" \")\n",
        "        A += 1\n",
        "    return 0\n",
        "\n",
        "if __name__ == '__main__':\n",
        "    main()"
      ],
      "metadata": {
        "id": "dlNs21gjJMs7"
      },
      "execution_count": null,
      "outputs": []
    },
    {
      "cell_type": "markdown",
      "source": [
        "Problem Description.\n",
        "\n",
        "Write a program to print all even numbers from 1 to N where you have to take N as input from the user."
      ],
      "metadata": {
        "id": "rchpliMVJXgf"
      }
    },
    {
      "cell_type": "code",
      "source": [
        "def main():\n",
        "    N = int(input())\n",
        "    A = 2\n",
        "    while A <= N:\n",
        "        if A%2 == 0:\n",
        "            print(A, end = \" \")\n",
        "        A += 2\n",
        "    return 0\n",
        "\n",
        "if __name__ == '__main__':\n",
        "    main()"
      ],
      "metadata": {
        "id": "qW9Z0kihJaPG"
      },
      "execution_count": null,
      "outputs": []
    },
    {
      "cell_type": "markdown",
      "source": [
        "Problem Description.\n",
        "\n",
        "**Write a program to print all odd numbers from 1 to N where you have to take N as input from user. Here N is inclusive.**"
      ],
      "metadata": {
        "id": "9uwNorMtJk_a"
      }
    },
    {
      "cell_type": "code",
      "source": [
        "def main():\n",
        "    N = int(input())\n",
        "    A = 1\n",
        "    while A <= N:\n",
        "        if A%2 == 1:\n",
        "            print(A, end = \" \")\n",
        "        A += 1\n",
        "\n",
        "    return 0\n",
        "\n",
        "if __name__ == '__main__':\n",
        "    main()"
      ],
      "metadata": {
        "id": "trtKVvrOJoGi"
      },
      "execution_count": null,
      "outputs": []
    },
    {
      "cell_type": "markdown",
      "source": [
        "**You are given two integers A and B. You have to find the value of AB.**"
      ],
      "metadata": {
        "id": "KDCDvHmrKbzR"
      }
    },
    {
      "cell_type": "code",
      "source": [
        "def power(A, B):\n",
        "    ans = 1\n",
        "    i = 1\n",
        "    while i <= B:\n",
        "        ans *= A\n",
        "        i+= 1\n",
        "    return ans"
      ],
      "metadata": {
        "id": "3yi9hVf6Kd4p"
      },
      "execution_count": 5,
      "outputs": []
    },
    {
      "cell_type": "markdown",
      "source": [
        "Problem Description.\n",
        "\n",
        "**Take a number of test cases, denoted by T as input.For each test case, you should take integers N as input. Calculate and print the sum of the digits of the given number N.**"
      ],
      "metadata": {
        "id": "wFYkP2cZLeon"
      }
    },
    {
      "cell_type": "code",
      "source": [
        "def main():\n",
        "    # YOUR CODE GOES HERE\n",
        "    # Please take input and print output to standard input/output (stdin/stdout)\n",
        "    # E.g. 'input()/raw_input()' for input & 'print' for output\n",
        "    T = int(input())\n",
        "    x = 1\n",
        "    while x <=T:\n",
        "        N = int(input())\n",
        "        x += 1\n",
        "        i = 0\n",
        "        j = 0\n",
        "        while N >= 10:\n",
        "            i = N%10\n",
        "            N = N // 10\n",
        "            j += i\n",
        "        print(j+N)\n",
        "\n",
        "    return 0\n",
        "\n",
        "if __name__ == '__main__':\n",
        "    main()"
      ],
      "metadata": {
        "id": "6Kuzve7AKwtv"
      },
      "execution_count": 5,
      "outputs": []
    },
    {
      "cell_type": "markdown",
      "source": [
        "Problem Description.\n",
        "\n",
        "**You are given two matrices A & B of same size, you have to return another matrix which is the sum of A and B.**"
      ],
      "metadata": {
        "id": "jE7uo4jnLp4S"
      }
    },
    {
      "cell_type": "code",
      "source": [
        "def solve(A, B):\n",
        "  row = len(A)\n",
        "  col = len(A[0])\n",
        "  for i in range(row):\n",
        "    for j in range(col):\n",
        "      B[i][j] += A[i][j]\n",
        "  return B"
      ],
      "metadata": {
        "id": "E8B6BLLyK_wb"
      },
      "execution_count": null,
      "outputs": []
    },
    {
      "cell_type": "markdown",
      "source": [
        "**You are given a N X N integer matrix. You have to find the sum of all the main diagonal elements of A.**\n",
        "\n",
        "Main diagonal of a matrix A is a collection of elements A[i, j] such that i = j."
      ],
      "metadata": {
        "id": "deddWSX9Nt4L"
      }
    },
    {
      "cell_type": "code",
      "source": [
        "def solve(self, A):\n",
        "  sum1 = 0\n",
        "  for i in range(len(A)):\n",
        "    for j in range(len(A[0])):\n",
        "      if i == j:\n",
        "        sum1 += A[i][j]\n",
        "  return sum1"
      ],
      "metadata": {
        "id": "D_2AfZ7gNwg8"
      },
      "execution_count": null,
      "outputs": []
    },
    {
      "cell_type": "markdown",
      "source": [
        "Problem Description,\n",
        "\n",
        "**You are given two integer matrices A(having M X N size) and B(having N X P). You have to multiply matrix A with B and return the resultant matrix. (i.e. return the matrix AB).**"
      ],
      "metadata": {
        "id": "07oiWypGN5Rz"
      }
    },
    {
      "cell_type": "code",
      "source": [
        "class Solution:\n",
        "    def solve(self, A, B):\n",
        "        M = len(A)\n",
        "        N = len(A[0])\n",
        "        P = len(B[0])\n",
        "\n",
        "        C = []\n",
        "\n",
        "        for i in range(0, M):\n",
        "            C.append([0] * P)\n",
        "\n",
        "        for i in range(0, M):\n",
        "            for j in range(0, P):\n",
        "                for k in range(0, N):\n",
        "                    # Multiplying A[i][k] by B[k][j] and adding that to C[i][j]\n",
        "                    C[i][j] += A[i][k] * B[k][j]\n",
        "\n",
        "        return C"
      ],
      "metadata": {
        "id": "z_AQrKmwN_Eg"
      },
      "execution_count": null,
      "outputs": []
    }
  ]
}